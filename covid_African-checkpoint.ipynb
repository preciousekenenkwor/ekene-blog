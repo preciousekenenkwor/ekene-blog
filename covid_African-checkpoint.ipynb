{
 "cells": [
  {
   "cell_type": "code",
   "execution_count": 1,
   "metadata": {},
   "outputs": [],
   "source": [
    "#import the necessary libraries\n",
    "import pandas as pd"
   ]
  },
  {
   "cell_type": "code",
   "execution_count": 4,
   "metadata": {},
   "outputs": [],
   "source": [
    "# load the data\n",
    "covid = pd.read_csv('covid_africa.csv')"
   ]
  },
  {
   "cell_type": "code",
   "execution_count": 5,
   "metadata": {
    "scrolled": true
   },
   "outputs": [
    {
     "data": {
      "text/html": [
       "<div>\n",
       "<style scoped>\n",
       "    .dataframe tbody tr th:only-of-type {\n",
       "        vertical-align: middle;\n",
       "    }\n",
       "\n",
       "    .dataframe tbody tr th {\n",
       "        vertical-align: top;\n",
       "    }\n",
       "\n",
       "    .dataframe thead th {\n",
       "        text-align: right;\n",
       "    }\n",
       "</style>\n",
       "<table border=\"1\" class=\"dataframe\">\n",
       "  <thead>\n",
       "    <tr style=\"text-align: right;\">\n",
       "      <th></th>\n",
       "      <th>Country</th>\n",
       "      <th>Total Cases</th>\n",
       "      <th>Total Deaths</th>\n",
       "      <th>Total Recovered</th>\n",
       "      <th>Active Cases</th>\n",
       "      <th>Total Cases/1 mil population</th>\n",
       "      <th>Deaths/1 mil population</th>\n",
       "      <th>Total Tests</th>\n",
       "      <th>Tests/1 mil population</th>\n",
       "      <th>Population</th>\n",
       "    </tr>\n",
       "  </thead>\n",
       "  <tbody>\n",
       "    <tr>\n",
       "      <th>0</th>\n",
       "      <td>Algeria</td>\n",
       "      <td>206995</td>\n",
       "      <td>5939</td>\n",
       "      <td>142049.0</td>\n",
       "      <td>59007.0</td>\n",
       "      <td>4609</td>\n",
       "      <td>132</td>\n",
       "      <td>230861.0</td>\n",
       "      <td>5140.0</td>\n",
       "      <td>44913918</td>\n",
       "    </tr>\n",
       "    <tr>\n",
       "      <th>1</th>\n",
       "      <td>Angola</td>\n",
       "      <td>64612</td>\n",
       "      <td>1719</td>\n",
       "      <td>57493.0</td>\n",
       "      <td>5400.0</td>\n",
       "      <td>1887</td>\n",
       "      <td>50</td>\n",
       "      <td>1092363.0</td>\n",
       "      <td>31907.0</td>\n",
       "      <td>34236049</td>\n",
       "    </tr>\n",
       "    <tr>\n",
       "      <th>2</th>\n",
       "      <td>Benin</td>\n",
       "      <td>24804</td>\n",
       "      <td>161</td>\n",
       "      <td>24346.0</td>\n",
       "      <td>297.0</td>\n",
       "      <td>1977</td>\n",
       "      <td>13</td>\n",
       "      <td>604310.0</td>\n",
       "      <td>48156.0</td>\n",
       "      <td>12548939</td>\n",
       "    </tr>\n",
       "    <tr>\n",
       "      <th>3</th>\n",
       "      <td>Botswana</td>\n",
       "      <td>192935</td>\n",
       "      <td>2407</td>\n",
       "      <td>188000.0</td>\n",
       "      <td>2528.0</td>\n",
       "      <td>79879</td>\n",
       "      <td>997</td>\n",
       "      <td>1828618.0</td>\n",
       "      <td>757085.0</td>\n",
       "      <td>2415342</td>\n",
       "    </tr>\n",
       "    <tr>\n",
       "      <th>4</th>\n",
       "      <td>Burkina Faso</td>\n",
       "      <td>15103</td>\n",
       "      <td>221</td>\n",
       "      <td>14661.0</td>\n",
       "      <td>221.0</td>\n",
       "      <td>697</td>\n",
       "      <td>10</td>\n",
       "      <td>226312.0</td>\n",
       "      <td>10443.0</td>\n",
       "      <td>21671636</td>\n",
       "    </tr>\n",
       "  </tbody>\n",
       "</table>\n",
       "</div>"
      ],
      "text/plain": [
       "        Country  Total Cases  Total Deaths  Total Recovered  Active Cases  \\\n",
       "0       Algeria       206995          5939         142049.0       59007.0   \n",
       "1        Angola        64612          1719          57493.0        5400.0   \n",
       "2         Benin        24804           161          24346.0         297.0   \n",
       "3      Botswana       192935          2407         188000.0        2528.0   \n",
       "4  Burkina Faso        15103           221          14661.0         221.0   \n",
       "\n",
       "   Total Cases/1 mil population  Deaths/1 mil population   Total Tests  \\\n",
       "0                          4609                       132     230861.0   \n",
       "1                          1887                        50    1092363.0   \n",
       "2                          1977                        13     604310.0   \n",
       "3                         79879                       997    1828618.0   \n",
       "4                           697                        10     226312.0   \n",
       "\n",
       "   Tests/1 mil population  Population  \n",
       "0                  5140.0    44913918  \n",
       "1                 31907.0    34236049  \n",
       "2                 48156.0    12548939  \n",
       "3                757085.0     2415342  \n",
       "4                 10443.0    21671636  "
      ]
     },
     "execution_count": 5,
     "metadata": {},
     "output_type": "execute_result"
    }
   ],
   "source": [
    "covid.head()"
   ]
  },
  {
   "cell_type": "code",
   "execution_count": 6,
   "metadata": {},
   "outputs": [
    {
     "data": {
      "text/plain": [
       "(54, 10)"
      ]
     },
     "execution_count": 6,
     "metadata": {},
     "output_type": "execute_result"
    }
   ],
   "source": [
    "covid.shape"
   ]
  },
  {
   "cell_type": "markdown",
   "metadata": {},
   "source": [
    "# which country has the most cases of covid?"
   ]
  },
  {
   "cell_type": "code",
   "execution_count": 11,
   "metadata": {},
   "outputs": [
    {
     "data": {
      "text/plain": [
       "<AxesSubplot:title={'center':'Total cases in Africa countries'}, xlabel='Country', ylabel='Total cases'>"
      ]
     },
     "execution_count": 11,
     "metadata": {},
     "output_type": "execute_result"
    },
    {
     "data": {
      "image/png": "[encoded data removed]",
      "text/plain": [
       "<Figure size 1008x432 with 1 Axes>"
      ]
     },
     "metadata": {
      "needs_background": "light"
     },
     "output_type": "display_data"
    }
   ],
   "source": [
    "covid.plot(kind='bar',\n",
    "            x='Country',y='Total Cases',\n",
    "            figsize=(14, 6),\n",
    "            grid=True,\n",
    "            legend=None,\n",
    "            title='Total cases in Africa countries', \n",
    "            ylabel='Total cases')"
   ]
  },
  {
   "cell_type": "code",
   "execution_count": 15,
   "metadata": {},
   "outputs": [
    {
     "ename": "IndentationError",
     "evalue": "unexpected indent (<ipython-input-15-a2b3beab76c7>, line 3)",
     "output_type": "error",
     "traceback": [
      "\u001b[1;36m  File \u001b[1;32m\"<ipython-input-15-a2b3beab76c7>\"\u001b[1;36m, line \u001b[1;32m3\u001b[0m\n\u001b[1;33m    Add a column called'percenatge/pop'to the dateframe\u001b[0m\n\u001b[1;37m    ^\u001b[0m\n\u001b[1;31mIndentationError\u001b[0m\u001b[1;31m:\u001b[0m unexpected indent\n"
     ]
    }
   ],
   "source": [
    "which country has the highest percentage per popoulation?\n",
    "                    "
   ]
  },
  {
   "cell_type": "code",
   "execution_count": null,
   "metadata": {},
   "outputs": [],
   "source": []
  },
  {
   "cell_type": "code",
   "execution_count": null,
   "metadata": {},
   "outputs": [],
   "source": []
  }
 ],
 "metadata": {
  "kernelspec": {
   "display_name": "Python 3",
   "language": "python",
   "name": "python3"
  },
  "language_info": {
   "codemirror_mode": {
    "name": "ipython",
    "version": 3
   },
   "file_extension": ".py",
   "mimetype": "text/x-python",
   "name": "python",
   "nbconvert_exporter": "python",
   "pygments_lexer": "ipython3",
   "version": "3.8.5"
  }
 },
 "nbformat": 4,
 "nbformat_minor": 4
}
